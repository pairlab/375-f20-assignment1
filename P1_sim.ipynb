{
 "cells": [
  {
   "cell_type": "markdown",
   "metadata": {},
   "source": [
    "# P1) Path Tracking\n",
    "\n",
    "This notebook tests your solution to problem 1 by using it to do joint space and task space inverse dynamics with acceleration and torque control.\n",
    "\n",
    "You do not need to modify this code and it will not be marked. Edit `P1_tracking.py` instead."
   ]
  },
  {
   "cell_type": "code",
   "execution_count": null,
   "metadata": {},
   "outputs": [],
   "source": [
    "import sys\n",
    "sys.path.append('.')\n",
    "\n",
    "import numpy as np\n",
    "from numpy.linalg import norm\n",
    "import matplotlib.pyplot as plt\n",
    "import plot_utils as plut\n",
    "import time\n",
    "import pinocchio as pin\n",
    "from pinocchio.robot_wrapper import RobotWrapper\n",
    "#import gepetto.corbaserver\n",
    "import subprocess\n",
    "import os\n",
    "#import tsid\n",
    "\n",
    "import talos_arm_conf as conf\n",
    "from P1_tracking import compute_jsid_dv, compute_jsid_tau, compute_tsid_tau"
   ]
  },
  {
   "cell_type": "markdown",
   "metadata": {},
   "source": [
    "Create a `RobotWrapper` specifying the URDF file describing the robot."
   ]
  },
  {
   "cell_type": "code",
   "execution_count": null,
   "metadata": {},
   "outputs": [],
   "source": [
    "robot = RobotWrapper.BuildFromURDF(conf.urdf, [os.path.join(conf.path, '../..')])\n",
    "model = robot.model"
   ]
  },
  {
   "cell_type": "markdown",
   "metadata": {},
   "source": [
    "Set initial configuration and velocity."
   ]
  },
  {
   "cell_type": "code",
   "execution_count": null,
   "metadata": {},
   "outputs": [],
   "source": [
    "q0 = conf.q0\n",
    "v0 = np.zeros(robot.nv)"
   ]
  },
  {
   "cell_type": "markdown",
   "metadata": {},
   "source": [
    "You can run a visualization of the robot if you install [meshcat](https://github.com/rdeits/meshcat-python). This is not necessary for the assignment, and has been commented out since it adds an additional package requirement."
   ]
  },
  {
   "cell_type": "code",
   "execution_count": null,
   "metadata": {},
   "outputs": [],
   "source": [
    "# skip visualization that requires MeshCat\n",
    "#robot_display = pin.RobotWrapper.BuildFromURDF(conf.urdf, [os.path.join(conf.path, '../..')])\n",
    "#Viewer = pin.visualize.MeshcatVisualizer\n",
    "#viz = Viewer(robot_display.model, robot_display.collision_model, robot_display.visual_model)\n",
    "#viz.initViewer(loadModel=True)\n",
    "#viz.display(q0)"
   ]
  },
  {
   "cell_type": "code",
   "execution_count": null,
   "metadata": {},
   "outputs": [],
   "source": [
    "#hasattr(viz.viewer, 'jupyter_cell') and viz.viewer.jupyter_cell()"
   ]
  },
  {
   "cell_type": "markdown",
   "metadata": {},
   "source": [
    "Create empty arrays to store the simulation trajectories."
   ]
  },
  {
   "cell_type": "code",
   "execution_count": null,
   "metadata": {},
   "outputs": [],
   "source": [
    "N = conf.N_SIMULATION\n",
    "q      = np.full((robot.nq, N + 1), np.nan)\n",
    "v      = np.full((robot.nv, N + 1), np.nan)\n",
    "dv     = np.full((robot.nv, N + 1), np.nan)\n",
    "q_ref  = np.full((robot.nq, N), np.nan)\n",
    "v_ref  = np.full((robot.nv, N), np.nan)\n",
    "dv_ref = np.full((robot.nv, N), np.nan)\n",
    "dv_des = np.full((robot.nv, N), np.nan)"
   ]
  },
  {
   "cell_type": "markdown",
   "metadata": {},
   "source": [
    "Specify amplitude, phase and frequency of the sinusoidal joint trajectory to track."
   ]
  },
  {
   "cell_type": "code",
   "execution_count": null,
   "metadata": {},
   "outputs": [],
   "source": [
    "amp                  = np.array([0.2, 0.3, 0.4, 0.0, 0.0, 0.0, 0.0])               # amplitude\n",
    "phi                  = np.array([0.0, 0.5 * np.pi, 0.0, 0.0, 0.0, 0.0, 0.0])       # phase\n",
    "two_pi_f             = 2 * np.pi * np.array([1.0, 0.5, 0.3, 0.0, 0.0, 0.0, 0.0])   # frequency (time 2 PI)\n",
    "two_pi_f_amp         = np.multiply(two_pi_f, amp)\n",
    "two_pi_f_squared_amp = np.multiply(two_pi_f, two_pi_f_amp)"
   ]
  },
  {
   "cell_type": "markdown",
   "metadata": {},
   "source": [
    "## P1 a) Joint space acceleration control\n",
    "First we'll use your solution to P1 a) to do path tracking in joint space with acceleration control. At every step, your method `compute_dv` is called to compute joint acceleration. "
   ]
  },
  {
   "cell_type": "code",
   "execution_count": null,
   "metadata": {},
   "outputs": [],
   "source": [
    "import time\n",
    "t = 0.0\n",
    "dt = conf.dt\n",
    "q[:, 0], v[:, 0] = q0, v0\n",
    "\n",
    "for i in range(N):\n",
    "    time_start = time.time()\n",
    "    \n",
    "    # set reference trajectory\n",
    "    q_ref[:,i]  = q0 +  amp * np.sin(two_pi_f * t + phi)\n",
    "    v_ref[:,i]  = two_pi_f_amp * np.cos(two_pi_f * t + phi)\n",
    "    dv_ref[:,i] = -two_pi_f_squared_amp * np.sin(two_pi_f * t + phi)\n",
    "    \n",
    "    if i % conf.PRINT_N == 0:\n",
    "        print(\"Time %.3f\" % (t))\n",
    "        \n",
    "    # calculate dv\n",
    "    Kp = conf.kp_posture * np.ones(robot.nv)\n",
    "    Kd = 2.0 * np.sqrt(conf.kp_posture) * np.ones(robot.nv)\n",
    "    dv[:,i]  = compute_jsid_dv(dv_ref[:,i], v[:,i], v_ref[:,i], q[:,i], q_ref[:,i], Kp, Kd)\n",
    "    #dv_desired = dv_ref[:,i] - Kd * (v[:,i] - v_ref[:,i]) - Kp * (q[:,i] - q_ref[:,i])\n",
    "    #dv[:,i] = dv_desired\n",
    "\n",
    "    # numerical integration\n",
    "    v_mean = v[:,i] + 0.5*dt*dv[:,i]\n",
    "    v[:,i + 1] = v[:,i] + dt * dv[:,i]\n",
    "    q[:,i + 1] = pin.integrate(model, q[:,i], dt * v_mean)\n",
    "    t += conf.dt\n",
    "    \n",
    "    # skip vizualization that requires MeshCat\n",
    "    #if i % conf.DISPLAY_N == 0:\n",
    "        #viz.display(q[:,i])\n",
    "\n",
    "    time_spent = time.time() - time_start\n",
    "    if time_spent < conf.dt:\n",
    "        time.sleep(conf.dt - time_spent)\n",
    "\n",
    "# PLOT STUFF\n",
    "plt_time = np.arange(0.0, N * conf.dt, conf.dt)\n"
   ]
  },
  {
   "cell_type": "code",
   "execution_count": null,
   "metadata": {},
   "outputs": [],
   "source": [
    "(f, ax) = plut.create_empty_figure(robot.nv, 1, figsize=(10, 20))\n",
    "for i in range(robot.nv):\n",
    "    ax[i].plot(plt_time, q[i,:-1], label='q %i' % i)\n",
    "    ax[i].plot(plt_time, q_ref[i,:], '--', label='q ref %i' % i)\n",
    "    ax[i].set_xlabel('Time [s]')\n",
    "    ax[i].set_ylabel('q [rad]')\n",
    "    leg = ax[i].legend()\n",
    "    leg.get_frame().set_alpha(0.5)\n",
    "plt.show()"
   ]
  },
  {
   "cell_type": "code",
   "execution_count": null,
   "metadata": {},
   "outputs": [],
   "source": [
    "(f, ax) = plut.create_empty_figure(robot.nv, 1, figsize=(10, 20))\n",
    "for i in range(robot.nv):\n",
    "    ax[i].plot(plt_time, v[i,:-1], label='v %i ' % i)\n",
    "    ax[i].plot(plt_time, v_ref[i,:], '--', label='v ref %i' % i)\n",
    "    ax[i].set_xlabel('Time [s]')\n",
    "    ax[i].set_ylabel('v [rad/s]')\n",
    "    leg = ax[i].legend()\n",
    "    leg.get_frame().set_alpha(0.5)\n",
    "plt.show()"
   ]
  },
  {
   "cell_type": "code",
   "execution_count": null,
   "metadata": {},
   "outputs": [],
   "source": [
    "(f, ax) = plut.create_empty_figure(robot.nv, 1, figsize=(10, 20))\n",
    "for i in range(robot.nv):\n",
    "    ax[i].plot(plt_time, dv[i,:-1], label='dv '+str(i))\n",
    "    ax[i].plot(plt_time, dv_ref[i,:], '--', label='dv ref %i' % i)\n",
    "    ax[i].plot(plt_time, dv_des[i,:], ':', label='dv des %i' % i)\n",
    "    ax[i].set_xlabel('Time [s]')\n",
    "    ax[i].set_ylabel('dv [rad/s^2]')\n",
    "    leg = ax[i].legend()\n",
    "    leg.get_frame().set_alpha(0.5)\n",
    "plt.show()"
   ]
  },
  {
   "cell_type": "markdown",
   "metadata": {},
   "source": [
    "## P1 b) Joint space torque control\n",
    "Next we'll use your solution to P1 b) to do path tracking in joint space with torque control. At every step, your method `compute_dv` is called to compute desired joint acceleration and your method `compute_tau` is called to calculate torque. "
   ]
  },
  {
   "cell_type": "code",
   "execution_count": null,
   "metadata": {},
   "outputs": [],
   "source": [
    "N = conf.N_SIMULATION\n",
    "q      = np.full((robot.nq, N + 1), np.nan)\n",
    "v      = np.full((robot.nv, N + 1), np.nan)\n",
    "dv     = np.full((robot.nv, N + 1), np.nan)\n",
    "tau    = np.full((robot.nq, N), np.nan)\n",
    "q_ref  = np.full((robot.nq, N), np.nan)\n",
    "v_ref  = np.full((robot.nv, N), np.nan)\n",
    "dv_ref = np.full((robot.nv, N), np.nan)\n",
    "dv_desired = np.full((robot.nv, N), np.nan)"
   ]
  },
  {
   "cell_type": "code",
   "execution_count": null,
   "metadata": {},
   "outputs": [],
   "source": [
    "import time\n",
    "t = 0.0\n",
    "dt = conf.dt\n",
    "q[:, 0], v[:, 0] = q0, v0\n",
    "\n",
    "for i in range(N):\n",
    "    time_start = time.time()\n",
    "    \n",
    "    # set reference trajectory\n",
    "    q_ref[:,i]  = q0 +  amp * np.sin(two_pi_f * t + phi)\n",
    "    v_ref[:,i]  = two_pi_f_amp * np.cos(two_pi_f * t + phi)\n",
    "    dv_ref[:,i] = -two_pi_f_squared_amp * np.sin(two_pi_f * t + phi)\n",
    "    \n",
    "    if i % conf.PRINT_N == 0:\n",
    "        print(\"Time %.3f\" % (t))\n",
    "        \n",
    "    # calculate dv\n",
    "    Kp = conf.kp_posture * np.ones(robot.nv)\n",
    "    Kd = 2.0 * np.sqrt(conf.kp_posture) * np.ones(robot.nv)\n",
    "    dv_desired[:,i]  = compute_jsid_dv(dv_ref[:,i], v[:,i], v_ref[:,i], q[:,i], q_ref[:,i], Kp, Kd)\n",
    "    \n",
    "    # calculate tau\n",
    "    h = pin.rnea(model, robot.data, q[:,i], v[:,i], np.zeros_like(dv[:,i]))\n",
    "    M = pin.crba(model, robot.data, q[:,i])\n",
    "    tau[:,i] = compute_jsid_tau(dv_desired[:,i], M, h)\n",
    "    \n",
    "    # numerical integration\n",
    "    dv[:,i] = pin.aba(model, robot.data, q[:,i], v[:,i], tau[:,i])\n",
    "    v_mean = v[:,i] + 0.5*dt*dv[:,i]\n",
    "    v[:,i + 1] = v[:,i] + dt * dv[:,i]\n",
    "    q[:,i + 1] = pin.integrate(model, q[:,i], dt * v_mean)\n",
    "    t += conf.dt\n",
    "    \n",
    "    # skip vizualization that requires MeshCat\n",
    "    #if i % conf.DISPLAY_N == 0:\n",
    "    #    viz.display(q[:,i])\n",
    "\n",
    "    time_spent = time.time() - time_start\n",
    "    if time_spent < conf.dt:\n",
    "        time.sleep(conf.dt - time_spent)\n",
    "\n",
    "# PLOT STUFF\n",
    "plt_time = np.arange(0.0, N * conf.dt, conf.dt)\n"
   ]
  },
  {
   "cell_type": "code",
   "execution_count": null,
   "metadata": {},
   "outputs": [],
   "source": [
    "(f, ax) = plut.create_empty_figure(robot.nv, 1, figsize=(10, 20))\n",
    "for i in range(robot.nv):\n",
    "    ax[i].plot(plt_time, q[i,:-1], label='q %i' % i)\n",
    "    ax[i].plot(plt_time, q_ref[i,:], '--', label='q ref %i' % i)\n",
    "    ax[i].set_xlabel('Time [s]')\n",
    "    ax[i].set_ylabel('q [rad]')\n",
    "    leg = ax[i].legend()\n",
    "    leg.get_frame().set_alpha(0.5)\n",
    "plt.show()"
   ]
  },
  {
   "cell_type": "code",
   "execution_count": null,
   "metadata": {},
   "outputs": [],
   "source": [
    "(f, ax) = plut.create_empty_figure(robot.nv, 1, figsize=(10, 20))\n",
    "for i in range(robot.nv):\n",
    "    ax[i].plot(plt_time, v[i,:-1], label='v %i ' % i)\n",
    "    ax[i].plot(plt_time, v_ref[i,:], '--', label='v ref %i' % i)\n",
    "    ax[i].set_xlabel('Time [s]')\n",
    "    ax[i].set_ylabel('v [rad/s]')\n",
    "    leg = ax[i].legend()\n",
    "    leg.get_frame().set_alpha(0.5)\n",
    "plt.show()"
   ]
  },
  {
   "cell_type": "code",
   "execution_count": null,
   "metadata": {},
   "outputs": [],
   "source": [
    "(f, ax) = plut.create_empty_figure(robot.nv, 1, figsize=(10, 20))\n",
    "for i in range(robot.nv):\n",
    "    ax[i].plot(plt_time, dv[i,:-1], label='dv '+str(i))\n",
    "    ax[i].plot(plt_time, dv_ref[i,:], '--', label='dv ref %i' % i)\n",
    "    ax[i].plot(plt_time, dv_des[i,:], ':', label='dv des %i' % i)\n",
    "    ax[i].set_xlabel('Time [s]')\n",
    "    ax[i].set_ylabel('dv [rad/s^2]')\n",
    "    leg = ax[i].legend()\n",
    "    leg.get_frame().set_alpha(0.5)\n",
    "plt.show()"
   ]
  },
  {
   "cell_type": "code",
   "execution_count": null,
   "metadata": {},
   "outputs": [],
   "source": [
    "(f, ax) = plut.create_empty_figure(robot.nv, 1, figsize=(10, 20))\n",
    "for i in range(robot.nv):\n",
    "    ax[i].plot(plt_time, tau[i,:], label='tau %i' % i)\n",
    "    ax[i].set_xlabel('Time [s]')\n",
    "    ax[i].set_ylabel('tau [Nm]')\n",
    "    leg = ax[i].legend()\n",
    "    leg.get_frame().set_alpha(0.5)\n",
    "plt.show()"
   ]
  },
  {
   "cell_type": "markdown",
   "metadata": {},
   "source": [
    "## P1 c) Task space torque control\n",
    "Next we'll use your solution to P1 c) to do path tracking in task space with torque control."
   ]
  },
  {
   "cell_type": "code",
   "execution_count": null,
   "metadata": {},
   "outputs": [],
   "source": [
    "N = conf.N_SIMULATION\n",
    "q      = np.full((robot.nq, N + 1), np.nan)\n",
    "v      = np.full((robot.nv, N + 1), np.nan)\n",
    "dv     = np.full((robot.nv, N + 1), np.nan)\n",
    "x      = np.full((3, N + 1), np.nan)\n",
    "tau    = np.full((robot.nq, N), np.nan)\n",
    "x_ref  = np.full((3, N), np.nan)\n"
   ]
  },
  {
   "cell_type": "code",
   "execution_count": null,
   "metadata": {},
   "outputs": [],
   "source": [
    "amp                  = np.array([0.05, 0.05, 0.05])               # amplitude\n",
    "phi                  = np.array([0.0, 0.0, 0.0])       # phase\n",
    "two_pi_f             = 2 * np.pi * np.array([0.01, 0.01, 0.01])   # frequency (time 2 PI)\n",
    "two_pi_f_amp         = np.multiply(two_pi_f, amp)\n",
    "two_pi_f_squared_amp = np.multiply(two_pi_f, two_pi_f_amp)"
   ]
  },
  {
   "cell_type": "code",
   "execution_count": null,
   "metadata": {},
   "outputs": [],
   "source": [
    "from numpy.linalg import norm, solve\n",
    "data = robot.data\n",
    "\n",
    "JOINT_ID = 6\n",
    "\n",
    "pin.forwardKinematics(model,data,q[:,-1])\n",
    "x0     = np.array([0.15,0.15,0.15])\n",
    "eps    = 1e-4\n",
    "DT     = 1e-1\n",
    "damp   = 1e-6\n",
    "\n",
    "q0 = np.array([2.298, 3.581, 2.318, 5.749, 0.797, 1.253, 0.   ])\n",
    "q[:, 0], v[:, 0] = q0, v0\n",
    "x[:, 0] = x0\n",
    "\n",
    "i=0\n",
    "t = 0.\n",
    "for i in range(N):\n",
    "    x_ref[:,i]  = x0 + amp * np.sin(two_pi_f * t + phi)\n",
    "    oMdes = pin.SE3(np.eye(3), x_ref[:,i])\n",
    "\n",
    "    pin.forwardKinematics(model,data,q[:,i])\n",
    "    dMi = oMdes.actInv(data.oMi[JOINT_ID])\n",
    "    err = pin.log(dMi).vector\n",
    "\n",
    "    J = pin.computeJointJacobian(model,data,q[:,i],JOINT_ID)\n",
    "    pin.computeJointJacobians(model,data,q[:,i])\n",
    "    pin.computeJointJacobiansTimeVariation(model,data,q[:,i],v[:,i])\n",
    "    dJ = pin.getJointJacobianTimeVariation(model,data,JOINT_ID,pin.ReferenceFrame.LOCAL_WORLD_ALIGNED)\n",
    "\n",
    "    J_pinv = np.linalg.pinv(J)\n",
    "    Kp = conf.kp_posture * np.ones(6)\n",
    "    ddx_desired = -Kp * err\n",
    "\n",
    "    h = pin.rnea(model, data, q[:,i], v[:,i], np.zeros_like(v[:,i]))\n",
    "    M = pin.crba(model, data, q[:,i])\n",
    "    tau[:,i] = compute_tsid_tau(ddx_desired, J, dJ, v[:,i], M, h)\n",
    "    \n",
    "    dv[:,i] = pin.aba(model, data, q[:,i], v[:,i], tau[:,i])\n",
    "\n",
    "    v_mean = v[:,i] + 0.5*DT*dv[:,i]\n",
    "    v[:,i + 1] = v[:,i] + dt * dv[:,i]\n",
    "    q[:,i+1] = pin.integrate(model, q[:,i], DT * v_mean)\n",
    "    x[:,i+1] = data.oMi[JOINT_ID].translation\n",
    "    \n",
    "    if i % conf.PRINT_N == 0:\n",
    "        print(\"Time %.3f\" % (t))\n",
    "\n",
    "    # skip vizualization which requires MeshCat\n",
    "    #if not i % 10:\n",
    "    #    viz.display(q[:,i])\n",
    "    i += 1\n",
    "    t += DT\n",
    "\n",
    "# PLOT STUFF\n",
    "plt_time = np.arange(0.0, N * conf.dt, conf.dt)\n"
   ]
  },
  {
   "cell_type": "code",
   "execution_count": null,
   "metadata": {},
   "outputs": [],
   "source": [
    "(f, ax) = plut.create_empty_figure(3, 1, figsize=(10, 20))\n",
    "for i in range(3):\n",
    "    ax[i].plot(plt_time, x[i,:-1], label='q %i' % i)\n",
    "    ax[i].plot(plt_time, x_ref[i,:], '--', label='q ref %i' % i)\n",
    "    ax[i].set_xlabel('Time [s]')\n",
    "    ax[i].set_ylabel('q [rad]')\n",
    "    leg = ax[i].legend()\n",
    "    leg.get_frame().set_alpha(0.5)\n",
    "plt.show()"
   ]
  }
 ],
 "metadata": {
  "kernelspec": {
   "display_name": "Python 3",
   "language": "python",
   "name": "python3"
  },
  "language_info": {
   "codemirror_mode": {
    "name": "ipython",
    "version": 3
   },
   "file_extension": ".py",
   "mimetype": "text/x-python",
   "name": "python",
   "nbconvert_exporter": "python",
   "pygments_lexer": "ipython3",
   "version": "3.7.7"
  }
 },
 "nbformat": 4,
 "nbformat_minor": 4
}
